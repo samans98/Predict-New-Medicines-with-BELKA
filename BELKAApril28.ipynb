{
  "nbformat": 4,
  "nbformat_minor": 0,
  "metadata": {
    "colab": {
      "provenance": [],
      "machine_shape": "hm",
      "gpuType": "V28"
    },
    "kernelspec": {
      "name": "python3",
      "display_name": "Python 3"
    },
    "language_info": {
      "name": "python"
    },
    "accelerator": "TPU",
    "widgets": {
      "application/vnd.jupyter.widget-state+json": {
        "4eb5f52d2ac549d89ea2bbf763bfd8fb": {
          "model_module": "@jupyter-widgets/controls",
          "model_name": "FloatProgressModel",
          "model_module_version": "1.5.0",
          "state": {
            "_dom_classes": [],
            "_model_module": "@jupyter-widgets/controls",
            "_model_module_version": "1.5.0",
            "_model_name": "FloatProgressModel",
            "_view_count": null,
            "_view_module": "@jupyter-widgets/controls",
            "_view_module_version": "1.5.0",
            "_view_name": "ProgressView",
            "bar_style": "",
            "description": "",
            "description_tooltip": null,
            "layout": "IPY_MODEL_51fd72bc51d44bcebe36f5fd82e2c961",
            "max": 100,
            "min": 0,
            "orientation": "horizontal",
            "style": "IPY_MODEL_9a9a8fabd36148feac9f3cc9375a2614",
            "value": 100
          }
        },
        "51fd72bc51d44bcebe36f5fd82e2c961": {
          "model_module": "@jupyter-widgets/base",
          "model_name": "LayoutModel",
          "model_module_version": "1.2.0",
          "state": {
            "_model_module": "@jupyter-widgets/base",
            "_model_module_version": "1.2.0",
            "_model_name": "LayoutModel",
            "_view_count": null,
            "_view_module": "@jupyter-widgets/base",
            "_view_module_version": "1.2.0",
            "_view_name": "LayoutView",
            "align_content": null,
            "align_items": null,
            "align_self": null,
            "border": null,
            "bottom": null,
            "display": null,
            "flex": null,
            "flex_flow": null,
            "grid_area": null,
            "grid_auto_columns": null,
            "grid_auto_flow": null,
            "grid_auto_rows": null,
            "grid_column": null,
            "grid_gap": null,
            "grid_row": null,
            "grid_template_areas": null,
            "grid_template_columns": null,
            "grid_template_rows": null,
            "height": null,
            "justify_content": null,
            "justify_items": null,
            "left": null,
            "margin": null,
            "max_height": null,
            "max_width": null,
            "min_height": null,
            "min_width": null,
            "object_fit": null,
            "object_position": null,
            "order": null,
            "overflow": null,
            "overflow_x": null,
            "overflow_y": null,
            "padding": null,
            "right": null,
            "top": null,
            "visibility": null,
            "width": "auto"
          }
        },
        "9a9a8fabd36148feac9f3cc9375a2614": {
          "model_module": "@jupyter-widgets/controls",
          "model_name": "ProgressStyleModel",
          "model_module_version": "1.5.0",
          "state": {
            "_model_module": "@jupyter-widgets/controls",
            "_model_module_version": "1.5.0",
            "_model_name": "ProgressStyleModel",
            "_view_count": null,
            "_view_module": "@jupyter-widgets/base",
            "_view_module_version": "1.2.0",
            "_view_name": "StyleView",
            "bar_color": "black",
            "description_width": ""
          }
        }
      }
    }
  },
  "cells": [
    {
      "cell_type": "code",
      "source": [
        "pip install rdkit\n",
        "pip install duckdb"
      ],
      "metadata": {
        "id": "FR5a15Xc92FJ"
      },
      "execution_count": null,
      "outputs": []
    },
    {
      "cell_type": "code",
      "source": [
        "import duckdb\n",
        "import pandas as pd\n",
        "import numpy as np\n",
        "from rdkit import Chem\n",
        "from rdkit.Chem import AllChem\n",
        "from sklearn.ensemble import RandomForestClassifier\n",
        "from sklearn.model_selection import train_test_split\n",
        "from sklearn.metrics import average_precision_score\n",
        "from sklearn.preprocessing import OneHotEncoder\n",
        "from tensorflow.keras.preprocessing.sequence import pad_sequences\n"
      ],
      "metadata": {
        "id": "VLffl3_SSFmp"
      },
      "execution_count": null,
      "outputs": []
    },
    {
      "cell_type": "code",
      "execution_count": null,
      "metadata": {
        "colab": {
          "base_uri": "https://localhost:8080/",
          "height": 49,
          "referenced_widgets": [
            "4eb5f52d2ac549d89ea2bbf763bfd8fb",
            "51fd72bc51d44bcebe36f5fd82e2c961",
            "9a9a8fabd36148feac9f3cc9375a2614"
          ]
        },
        "id": "xd8864vE9gvC",
        "outputId": "c9f832c2-f3f3-43ff-bb44-9f4ff0728036"
      },
      "outputs": [
        {
          "output_type": "display_data",
          "data": {
            "text/plain": [
              "FloatProgress(value=0.0, layout=Layout(width='auto'), style=ProgressStyle(bar_color='black'))"
            ],
            "application/vnd.jupyter.widget-view+json": {
              "version_major": 2,
              "version_minor": 0,
              "model_id": "4eb5f52d2ac549d89ea2bbf763bfd8fb"
            }
          },
          "metadata": {}
        }
      ],
      "source": [
        "train_path = '/content/drive/MyDrive/Kaggle/train.parquet'\n",
        "\n",
        "con = duckdb.connect()\n",
        "\n",
        "df = con.query(f\"\"\"(SELECT *\n",
        "                        FROM parquet_scan('{train_path}')\n",
        "                        WHERE binds = 0\n",
        "                        ORDER BY random()\n",
        "                        LIMIT 90000)\n",
        "                        UNION ALL\n",
        "                        (SELECT *\n",
        "                        FROM parquet_scan('{train_path}')\n",
        "                        WHERE binds = 1\n",
        "                        ORDER BY random()\n",
        "                        LIMIT 90000)\"\"\").df()\n",
        "\n",
        "con.close()"
      ]
    },
    {
      "cell_type": "code",
      "source": [
        "#Generate ECFPs\n",
        "def generate_ecfp(molecule, radius=2, bits=1024):\n",
        "    if molecule is None:\n",
        "        return None\n",
        "    return list(AllChem.GetMorganFingerprintAsBitVect(molecule, radius, nBits=bits))\n",
        "\n",
        "# Convert molecule SMILES to RDKit and obtain ECFP\n",
        "df['molecule'] = df['molecule_smiles'].apply(Chem.MolFromSmiles)\n",
        "df['ecfp'] = df['molecule'].apply(generate_ecfp)\n"
      ],
      "metadata": {
        "id": "y91mnQFy9yWy"
      },
      "execution_count": null,
      "outputs": []
    },
    {
      "cell_type": "code",
      "source": [
        "#Generate partial charge\n",
        "def compute_partial_charges(molecule):\n",
        "    AllChem.ComputeGasteigerCharges(molecule)\n",
        "    partial_charges = [atom.GetDoubleProp('_GasteigerCharge') for atom in molecule.GetAtoms()]\n",
        "    return partial_charges\n",
        "\n",
        "#Convert building_block_2/3 to RDKIT object and get partial charge\n",
        "df['building_block_2'] = df['buildingblock2_smiles'].apply(Chem.MolFromSmiles)\n",
        "df['building_block_3'] = df['buildingblock3_smiles'].apply(Chem.MolFromSmiles)\n",
        "\n",
        "df['partial_charges_2'] = df['building_block_2'].apply(compute_partial_charges)\n",
        "df['partial_charges_3'] = df['building_block_3'].apply(compute_partial_charges)"
      ],
      "metadata": {
        "id": "q0B8FaBQepxs"
      },
      "execution_count": null,
      "outputs": []
    },
    {
      "cell_type": "code",
      "source": [
        "#One-hot encode the protein_name\n",
        "onehot_encoder = OneHotEncoder(sparse_output=False)\n",
        "protein_onehot = onehot_encoder.fit_transform(df['protein_name'].values.reshape(-1, 1))"
      ],
      "metadata": {
        "id": "BeV9Kwe9gcKL"
      },
      "execution_count": null,
      "outputs": []
    },
    {
      "cell_type": "code",
      "source": [
        "#Convert features into list\n",
        "X_ecfp = df['ecfp'].tolist()\n",
        "X_protein = protein_onehot.tolist()\n",
        "X_partial_charges_2 = df['partial_charges_2'].tolist()\n",
        "X_partial_charges_3 = df['partial_charges_3'].tolist()"
      ],
      "metadata": {
        "id": "u35w-0WwfDh6"
      },
      "execution_count": null,
      "outputs": []
    },
    {
      "cell_type": "code",
      "source": [
        "# Determine the maximum length of sequences in X_partial_charges_2 and X_partial_charges_3\n",
        "max_length = max(max(len(seq) for seq in X_partial_charges_2), max(len(seq) for seq in X_partial_charges_3))\n",
        "\n",
        "# Pad sequences to ensure they have the same length\n",
        "X_partial_charges_2_padded = pad_sequences(X_partial_charges_2, maxlen=max_length, padding='pre', dtype='float32')\n",
        "X_partial_charges_3_padded = pad_sequences(X_partial_charges_3, maxlen=max_length, padding='pre', dtype='float32')"
      ],
      "metadata": {
        "id": "T5hdg1oRhJ4g"
      },
      "execution_count": null,
      "outputs": []
    },
    {
      "cell_type": "code",
      "source": [
        "# Convert lists to NumPy arrays\n",
        "X_ecfp = np.array(X_ecfp)\n",
        "X_protein = np.array(X_protein)\n",
        "X_partial_charges_2 = np.array(X_partial_charges_2_padded)\n",
        "X_partial_charges_3 = np.array(X_partial_charges_3_padded)"
      ],
      "metadata": {
        "id": "HtSnPBDKfIEf"
      },
      "execution_count": null,
      "outputs": []
    },
    {
      "cell_type": "code",
      "source": [
        "# Concatenate the arrays along the columns axis and filter target variable\n",
        "X = np.concatenate((X_ecfp, X_protein, X_partial_charges_2, X_partial_charges_3), axis=1)\n",
        "y = df['binds'].tolist()"
      ],
      "metadata": {
        "id": "4-A4Xl_ShfvN"
      },
      "execution_count": null,
      "outputs": []
    },
    {
      "cell_type": "code",
      "source": [
        "#Split and train RFC\n",
        "X_train, X_test, y_train, y_test = train_test_split(X, y, test_size=0.22, random_state=42)\n",
        "rf_model_1 = RandomForestClassifier(n_estimators=100, random_state=42)\n",
        "rf_model_1.fit(X_train, y_train)"
      ],
      "metadata": {
        "colab": {
          "base_uri": "https://localhost:8080/",
          "height": 74
        },
        "id": "1iAs3JgcfMhK",
        "outputId": "addcd54e-bdd7-497f-b6bc-bc6a8a1c0dad"
      },
      "execution_count": null,
      "outputs": [
        {
          "output_type": "execute_result",
          "data": {
            "text/plain": [
              "RandomForestClassifier(random_state=42)"
            ],
            "text/html": [
              "<style>#sk-container-id-1 {color: black;background-color: white;}#sk-container-id-1 pre{padding: 0;}#sk-container-id-1 div.sk-toggleable {background-color: white;}#sk-container-id-1 label.sk-toggleable__label {cursor: pointer;display: block;width: 100%;margin-bottom: 0;padding: 0.3em;box-sizing: border-box;text-align: center;}#sk-container-id-1 label.sk-toggleable__label-arrow:before {content: \"▸\";float: left;margin-right: 0.25em;color: #696969;}#sk-container-id-1 label.sk-toggleable__label-arrow:hover:before {color: black;}#sk-container-id-1 div.sk-estimator:hover label.sk-toggleable__label-arrow:before {color: black;}#sk-container-id-1 div.sk-toggleable__content {max-height: 0;max-width: 0;overflow: hidden;text-align: left;background-color: #f0f8ff;}#sk-container-id-1 div.sk-toggleable__content pre {margin: 0.2em;color: black;border-radius: 0.25em;background-color: #f0f8ff;}#sk-container-id-1 input.sk-toggleable__control:checked~div.sk-toggleable__content {max-height: 200px;max-width: 100%;overflow: auto;}#sk-container-id-1 input.sk-toggleable__control:checked~label.sk-toggleable__label-arrow:before {content: \"▾\";}#sk-container-id-1 div.sk-estimator input.sk-toggleable__control:checked~label.sk-toggleable__label {background-color: #d4ebff;}#sk-container-id-1 div.sk-label input.sk-toggleable__control:checked~label.sk-toggleable__label {background-color: #d4ebff;}#sk-container-id-1 input.sk-hidden--visually {border: 0;clip: rect(1px 1px 1px 1px);clip: rect(1px, 1px, 1px, 1px);height: 1px;margin: -1px;overflow: hidden;padding: 0;position: absolute;width: 1px;}#sk-container-id-1 div.sk-estimator {font-family: monospace;background-color: #f0f8ff;border: 1px dotted black;border-radius: 0.25em;box-sizing: border-box;margin-bottom: 0.5em;}#sk-container-id-1 div.sk-estimator:hover {background-color: #d4ebff;}#sk-container-id-1 div.sk-parallel-item::after {content: \"\";width: 100%;border-bottom: 1px solid gray;flex-grow: 1;}#sk-container-id-1 div.sk-label:hover label.sk-toggleable__label {background-color: #d4ebff;}#sk-container-id-1 div.sk-serial::before {content: \"\";position: absolute;border-left: 1px solid gray;box-sizing: border-box;top: 0;bottom: 0;left: 50%;z-index: 0;}#sk-container-id-1 div.sk-serial {display: flex;flex-direction: column;align-items: center;background-color: white;padding-right: 0.2em;padding-left: 0.2em;position: relative;}#sk-container-id-1 div.sk-item {position: relative;z-index: 1;}#sk-container-id-1 div.sk-parallel {display: flex;align-items: stretch;justify-content: center;background-color: white;position: relative;}#sk-container-id-1 div.sk-item::before, #sk-container-id-1 div.sk-parallel-item::before {content: \"\";position: absolute;border-left: 1px solid gray;box-sizing: border-box;top: 0;bottom: 0;left: 50%;z-index: -1;}#sk-container-id-1 div.sk-parallel-item {display: flex;flex-direction: column;z-index: 1;position: relative;background-color: white;}#sk-container-id-1 div.sk-parallel-item:first-child::after {align-self: flex-end;width: 50%;}#sk-container-id-1 div.sk-parallel-item:last-child::after {align-self: flex-start;width: 50%;}#sk-container-id-1 div.sk-parallel-item:only-child::after {width: 0;}#sk-container-id-1 div.sk-dashed-wrapped {border: 1px dashed gray;margin: 0 0.4em 0.5em 0.4em;box-sizing: border-box;padding-bottom: 0.4em;background-color: white;}#sk-container-id-1 div.sk-label label {font-family: monospace;font-weight: bold;display: inline-block;line-height: 1.2em;}#sk-container-id-1 div.sk-label-container {text-align: center;}#sk-container-id-1 div.sk-container {/* jupyter's `normalize.less` sets `[hidden] { display: none; }` but bootstrap.min.css set `[hidden] { display: none !important; }` so we also need the `!important` here to be able to override the default hidden behavior on the sphinx rendered scikit-learn.org. See: https://github.com/scikit-learn/scikit-learn/issues/21755 */display: inline-block !important;position: relative;}#sk-container-id-1 div.sk-text-repr-fallback {display: none;}</style><div id=\"sk-container-id-1\" class=\"sk-top-container\"><div class=\"sk-text-repr-fallback\"><pre>RandomForestClassifier(random_state=42)</pre><b>In a Jupyter environment, please rerun this cell to show the HTML representation or trust the notebook. <br />On GitHub, the HTML representation is unable to render, please try loading this page with nbviewer.org.</b></div><div class=\"sk-container\" hidden><div class=\"sk-item\"><div class=\"sk-estimator sk-toggleable\"><input class=\"sk-toggleable__control sk-hidden--visually\" id=\"sk-estimator-id-1\" type=\"checkbox\" checked><label for=\"sk-estimator-id-1\" class=\"sk-toggleable__label sk-toggleable__label-arrow\">RandomForestClassifier</label><div class=\"sk-toggleable__content\"><pre>RandomForestClassifier(random_state=42)</pre></div></div></div></div></div>"
            ]
          },
          "metadata": {},
          "execution_count": 16
        }
      ]
    },
    {
      "cell_type": "code",
      "source": [
        "# Make predictions on the test set\n",
        "y_pred_proba = rf_model_1.predict_proba(X_test)[:, 1]  # Probability of the positive class\n",
        "\n",
        "# Calculate the mean average precision\n",
        "map_score = average_precision_score(y_test, y_pred_proba)\n",
        "print(f\"Mean Average Precision (mAP): {map_score:.2f}\")"
      ],
      "metadata": {
        "colab": {
          "base_uri": "https://localhost:8080/"
        },
        "id": "A-KA6UisfTGw",
        "outputId": "6200ee3b-6e09-4c12-b4f2-b5260fc26bb6"
      },
      "execution_count": null,
      "outputs": [
        {
          "output_type": "stream",
          "name": "stdout",
          "text": [
            "Mean Average Precision (mAP): 0.97\n"
          ]
        }
      ]
    },
    {
      "cell_type": "code",
      "source": [
        "#Read and prepare the test file\n",
        "test = pd.read_csv('/content/drive/MyDrive/Kaggle/test.csv')\n",
        "test_1 = test.copy()"
      ],
      "metadata": {
        "id": "fN9pRB_OfUgU"
      },
      "execution_count": null,
      "outputs": []
    },
    {
      "cell_type": "code",
      "source": [
        "#feature engineer\n",
        "test_1['molecule'] = test_1['molecule_smiles'].apply(Chem.MolFromSmiles)\n",
        "test_1['ecfp'] = test_1['molecule'].apply(generate_ecfp)\n",
        "test_1['building_block_2'] = test_1['buildingblock2_smiles'].apply(Chem.MolFromSmiles)\n",
        "test_1['building_block_3'] = test_1['buildingblock3_smiles'].apply(Chem.MolFromSmiles)\n",
        "test_1['partial_charges_2'] = test_1['building_block_2'].apply(compute_partial_charges)\n",
        "test_1['partial_charges_3'] = test_1['building_block_3'].apply(compute_partial_charges)"
      ],
      "metadata": {
        "id": "dp22E9lj2JEh"
      },
      "execution_count": null,
      "outputs": []
    },
    {
      "cell_type": "code",
      "source": [
        "max_length_2 = max(len(seq) for seq in test_partial_charges_2)\n",
        "max_length_3 = max(len(seq) for seq in test_partial_charges_3)\n",
        "max_length = max(max_length_2, max_length_3)\n",
        "\n",
        "# Pad sequences to ensure they have the same length\n",
        "test_partial_charges_2_padded = pad_sequences(test_partial_charges_2, maxlen=max_length, padding='pre', dtype='float32').tolist()\n",
        "test_partial_charges_3_padded = pad_sequences(test_partial_charges_3, maxlen=max_length, padding='pre', dtype='float32').tolist()"
      ],
      "metadata": {
        "id": "rOr2aMpX21Fi"
      },
      "execution_count": null,
      "outputs": []
    },
    {
      "cell_type": "code",
      "source": [
        "#onehot encoding and converting features into lists\n",
        "protein_onehot_test = onehot_encoder.fit_transform(test_1['protein_name'].values.reshape(-1, 1))\n",
        "test_ecfp = test_1['ecfp'].tolist()\n",
        "test_protein = protein_onehot_test.tolist()\n",
        "# Convert lists to NumPy arrays\n",
        "test_X_ecfp = np.array(test_ecfp)\n",
        "test_X_protein = np.array(test_protein)\n",
        "\n",
        "test_partial_charges_2 = test_1['partial_charges_2']\n",
        "test_partial_charges_3 = test_1['partial_charges_3']\n",
        "X_partial_charges_2 = np.array(test_partial_charges_2_padded)\n",
        "X_partial_charges_3 = np.array(test_partial_charges_3_padded)"
      ],
      "metadata": {
        "id": "dJnTZYxFp2rW"
      },
      "execution_count": null,
      "outputs": []
    },
    {
      "cell_type": "code",
      "source": [
        "print(\"Shape of test_partial_charges_2:\", X_partial_charges_2.shape)\n",
        "print(\"Shape of test_partial_charges_3:\", X_partial_charges_3.shape)"
      ],
      "metadata": {
        "colab": {
          "base_uri": "https://localhost:8080/"
        },
        "id": "G7FkuD0M84g6",
        "outputId": "8b438eef-8e81-42e7-a7e8-fb50110500e7"
      },
      "execution_count": null,
      "outputs": [
        {
          "output_type": "stream",
          "name": "stdout",
          "text": [
            "Shape of test_partial_charges_2: (1674896, 29)\n",
            "Shape of test_partial_charges_3: (1674896, 29)\n"
          ]
        }
      ]
    },
    {
      "cell_type": "code",
      "source": [
        "test_partial_charges_2_reduced = X_partial_charges_2[:, 7:]\n",
        "test_partial_charges_3_reduced = X_partial_charges_3[:, 7:]\n",
        "print(\"Shape of test_partial_charges_2:\", test_partial_charges_2_reduced.shape)\n",
        "print(\"Shape of test_partial_charges_3:\", test_partial_charges_3_reduced.shape)"
      ],
      "metadata": {
        "colab": {
          "base_uri": "https://localhost:8080/"
        },
        "id": "0Wqj4PFe9E35",
        "outputId": "84597d55-4202-4ff1-c517-3980798449ac"
      },
      "execution_count": null,
      "outputs": [
        {
          "output_type": "stream",
          "name": "stdout",
          "text": [
            "Shape of test_partial_charges_2: (1674896, 22)\n",
            "Shape of test_partial_charges_3: (1674896, 22)\n"
          ]
        }
      ]
    },
    {
      "cell_type": "code",
      "source": [
        "# Concatenate the arrays along the columns axis\n",
        "X = np.concatenate((test_X_ecfp, test_X_protein, test_partial_charges_2_reduced, test_partial_charges_3_reduced), axis=1)"
      ],
      "metadata": {
        "id": "tQ6CVy_r2mJY"
      },
      "execution_count": null,
      "outputs": []
    },
    {
      "cell_type": "code",
      "source": [
        "# Predict the probabilities\n",
        "probabilities = rf_model_1.predict_proba(X)[:, 1]\n",
        "  # Create a DataFrame with 'id' and 'probability' columns\n",
        "output_df = pd.DataFrame({'id': test['id'], 'binds': probabilities})\n",
        "output_df.to_csv('submission.csv', index=False)\n",
        "output_df.head()"
      ],
      "metadata": {
        "id": "h5DlTQ8K36Xt"
      },
      "execution_count": null,
      "outputs": []
    }
  ]
}